{
 "cells": [
  {
   "cell_type": "code",
   "execution_count": 2,
   "metadata": {},
   "outputs": [
    {
     "name": "stdout",
     "output_type": "stream",
     "text": [
      "Open 9-5 daily\n"
     ]
    }
   ],
   "source": [
    "from zoo import hours\n",
    "\n",
    "hours()"
   ]
  },
  {
   "cell_type": "code",
   "execution_count": 18,
   "metadata": {},
   "outputs": [
    {
     "name": "stdout",
     "output_type": "stream",
     "text": [
      "Open 9-5 daily\n"
     ]
    }
   ],
   "source": [
    "import zoo as menagerie\n",
    "\n",
    "menagerie.hours()"
   ]
  },
  {
   "cell_type": "code",
   "execution_count": 1,
   "metadata": {},
   "outputs": [
    {
     "data": {
      "text/plain": [
       "<sqlite3.Cursor at 0x1bea369fbc0>"
      ]
     },
     "execution_count": 1,
     "metadata": {},
     "output_type": "execute_result"
    }
   ],
   "source": [
    "import sqlite3\n",
    "\n",
    "conn = sqlite3.connect('books.db')\n",
    "curs = conn.cursor()\n",
    "\n",
    "curs.execute('''CREATE TABLE IF NOT EXISTS books\n",
    "            (title TEXT, \n",
    "            author TEXT, \n",
    "            year INTEGER)''')\n",
    "\n",
    "conn.commit()\n",
    "\n",
    "ins = 'INSERT INTO books (title, author, year) VALUES (?, ?, ?)'\n",
    "\n",
    "curs.execute(ins, ('The Weirdstone of Brisingamen', 'Alan Garner', 1960))\n",
    "curs.execute(ins, ('Perdido Street Station', 'China Mieville', 2000))\n",
    "curs.execute(ins, ('Thud!', 'Terry Pratchett', 2005))\n",
    "curs.execute(ins, ('The Spellman Files', 'Lisa Lutz', 2007))\n",
    "curs.execute(ins, ('Small Gods', 'Terry Pratchett', 1992))\n"
   ]
  },
  {
   "cell_type": "code",
   "execution_count": 10,
   "metadata": {},
   "outputs": [
    {
     "name": "stdout",
     "output_type": "stream",
     "text": [
      "Perdido Street Station\n",
      "Small Gods\n",
      "The Spellman Files\n",
      "The Weirdstone of Brisingamen\n",
      "Thud!\n"
     ]
    }
   ],
   "source": [
    "import sqlalchemy as sa\n",
    "\n",
    "conn= sa.create_engine('sqlite:///books.db')\n",
    "\n",
    "order = 'SELECT title FROM books ORDER BY title'\n",
    "\n",
    "new = curs.execute(order).fetchall()\n",
    "\n",
    "for row in new:\n",
    "    print(row[0])\n"
   ]
  }
 ],
 "metadata": {
  "kernelspec": {
   "display_name": "Python 3",
   "language": "python",
   "name": "python3"
  },
  "language_info": {
   "codemirror_mode": {
    "name": "ipython",
    "version": 3
   },
   "file_extension": ".py",
   "mimetype": "text/x-python",
   "name": "python",
   "nbconvert_exporter": "python",
   "pygments_lexer": "ipython3",
   "version": "3.11.2"
  },
  "orig_nbformat": 4
 },
 "nbformat": 4,
 "nbformat_minor": 2
}
